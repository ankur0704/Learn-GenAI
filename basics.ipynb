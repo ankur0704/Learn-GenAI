{
 "cells": [
  {
   "cell_type": "code",
   "execution_count": null,
   "id": "c32ded3a",
   "metadata": {},
   "outputs": [],
   "source": []
  },
  {
   "cell_type": "code",
   "execution_count": 1,
   "id": "08c71076",
   "metadata": {},
   "outputs": [
    {
     "name": "stdout",
     "output_type": "stream",
     "text": [
      "Ankur\n",
      "sonavane\n"
     ]
    }
   ],
   "source": [
    "## basic rules in python this is single line comment\n",
    "## case sensitivity - python is case sensitive\n",
    "\n",
    "name= \"Ankur\"\n",
    "Name= \"sonavane\"\n",
    "\n",
    "print(name)\n",
    "print(Name)"
   ]
  },
  {
   "cell_type": "code",
   "execution_count": null,
   "id": "9542a4b1",
   "metadata": {},
   "outputs": [],
   "source": [
    "## Indentation\n",
    "##python uses indentation to define blocks of code."
   ]
  }
 ],
 "metadata": {
  "kernelspec": {
   "display_name": "myenv (3.13.2)",
   "language": "python",
   "name": "python3"
  },
  "language_info": {
   "codemirror_mode": {
    "name": "ipython",
    "version": 3
   },
   "file_extension": ".py",
   "mimetype": "text/x-python",
   "name": "python",
   "nbconvert_exporter": "python",
   "pygments_lexer": "ipython3",
   "version": "3.13.2"
  }
 },
 "nbformat": 4,
 "nbformat_minor": 5
}
