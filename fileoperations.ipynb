{
 "cells": [
  {
   "cell_type": "markdown",
   "id": "adf9c61f",
   "metadata": {},
   "source": [
    "#### File Operation: Read and Write Files\n",
    "\n",
    "- File handling is a crucial part of any programming language. \n",
    "- Python provides built in function and methods to read from and write to files, both text and binary. "
   ]
  },
  {
   "cell_type": "code",
   "execution_count": 2,
   "id": "756f74dd",
   "metadata": {},
   "outputs": [
    {
     "name": "stdout",
     "output_type": "stream",
     "text": [
      "hello how r you\n",
      "i am good\n",
      "welcome\n"
     ]
    }
   ],
   "source": [
    "### Read a whole file\n",
    "\n",
    "with open('example.txt', 'r') as file:\n",
    "   content= file.read()\n",
    "   print(content)"
   ]
  },
  {
   "cell_type": "code",
   "execution_count": 4,
   "id": "205d7828",
   "metadata": {},
   "outputs": [
    {
     "name": "stdout",
     "output_type": "stream",
     "text": [
      "hello how r you\n",
      "i am good\n",
      "welcome\n"
     ]
    }
   ],
   "source": [
    "## Read a file line by line\n",
    "\n",
    "with open('example.txt', 'r') as file:\n",
    "    for line in file:\n",
    "        print(line.strip())  ## strip() removes the newline character"
   ]
  },
  {
   "cell_type": "code",
   "execution_count": null,
   "id": "cc0cb19b",
   "metadata": {},
   "outputs": [],
   "source": [
    "## writing a file(overwriting)\n",
    "\n",
    "with open('example.txt', 'w') as file:\n",
    "    file.write('Hello World!\\n')\n",
    "    file.write('this is a new line.')   ## the entire content got over written in the example.txt file"
   ]
  },
  {
   "cell_type": "code",
   "execution_count": null,
   "id": "c36a651f",
   "metadata": {},
   "outputs": [],
   "source": [
    "## Write a file(without overwriting)\n",
    "\n",
    "with open('example.txt','a') as file:  \n",
    "    file.write(\"Append operation taking place!\\n\")"
   ]
  },
  {
   "cell_type": "code",
   "execution_count": 13,
   "id": "34323591",
   "metadata": {},
   "outputs": [],
   "source": [
    "## writing a list of lines to a file\n",
    "lines=['First line\\n', 'second line\\n','Third line\\n']\n",
    "with open('example.txt', 'a') as file:\n",
    "    file.writelines(lines)"
   ]
  },
  {
   "cell_type": "code",
   "execution_count": 14,
   "id": "1c005d6f",
   "metadata": {},
   "outputs": [],
   "source": [
    "## Binary files\n",
    "\n",
    "# writing to a binary file\n",
    "\n",
    "data=b'\\x00\\x01\\x02\\x03\\x04'\n",
    "with open('example.bin','wb') as file:\n",
    "    file.write(data)"
   ]
  },
  {
   "cell_type": "code",
   "execution_count": 16,
   "metadata": {},
   "outputs": [
    {
     "name": "stdout",
     "output_type": "stream",
     "text": [
      "b'\\x00\\x01\\x02\\x03\\x04'\n"
     ]
    }
   ],
   "source": [
    "# reading a binary file\n",
    "\n",
    "with open('example.bin', 'rb') as file:\n",
    "    content= file.read()\n",
    "    print(content)"
   ]
  },
  {
   "cell_type": "code",
   "execution_count": 17,
   "id": "eba1fb9b",
   "metadata": {},
   "outputs": [],
   "source": [
    "### Read the content from source text file and write to a destination text file\n",
    "#copying a text file\n",
    "\n",
    "with open('example.txt', 'r') as source_file:\n",
    "    content=source_file.read()\n",
    "\n",
    "with open('destination.txt','w') as destination_file:\n",
    "    destination_file.write(content)"
   ]
  },
  {
   "cell_type": "code",
   "execution_count": null,
   "id": "23fa7862",
   "metadata": {},
   "outputs": [
    {
     "name": "stdout",
     "output_type": "stream",
     "text": [
      "\n"
     ]
    }
   ],
   "source": [
    "## writing and then reading a file\n",
    "\n",
    "with open('example.txt','w+') as file:\n",
    "    file.write(\"Hello world\\n\")\n",
    "    file.write(\"This is a new line \\n\")\n",
    "\n",
    "    ## Move the file cursor to the beginning\n",
    "    file.seek(0)\n",
    "\n",
    "    ## Read the content of the file\n",
    "    content=file.read()\n",
    "    print(content)"
   ]
  },
  {
   "cell_type": "code",
   "execution_count": null,
   "id": "ffc357c8",
   "metadata": {},
   "outputs": [],
   "source": []
  },
  {
   "cell_type": "code",
   "execution_count": null,
   "id": "953650c1",
   "metadata": {},
   "outputs": [],
   "source": []
  }
 ],
 "metadata": {
  "kernelspec": {
   "display_name": "myenv (3.13.2)",
   "language": "python",
   "name": "python3"
  },
  "language_info": {
   "codemirror_mode": {
    "name": "ipython",
    "version": 3
   },
   "file_extension": ".py",
   "mimetype": "text/x-python",
   "name": "python",
   "nbconvert_exporter": "python",
   "pygments_lexer": "ipython3",
   "version": "3.13.2"
  }
 },
 "nbformat": 4,
 "nbformat_minor": 5
}
