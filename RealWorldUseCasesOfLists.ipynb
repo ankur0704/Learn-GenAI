{
 "cells": [
  {
   "cell_type": "markdown",
   "id": "2ed8931d",
   "metadata": {},
   "source": [
    "#### Real-World Examples Using LISTS in Python\n",
    "\n"
   ]
  },
  {
   "cell_type": "markdown",
   "id": "b076de13",
   "metadata": {},
   "source": [
    "### Example1. Manage a To Do List"
   ]
  },
  {
   "cell_type": "code",
   "execution_count": 4,
   "id": "be08dbdd",
   "metadata": {},
   "outputs": [
    {
     "name": "stdout",
     "output_type": "stream",
     "text": [
      "Don't forgot to pay the utility bills\n",
      "To Do List remaining\n",
      "-Buy food\n",
      "-Pay bills\n",
      "-Schedule meeting\n",
      "-Go for a run\n"
     ]
    }
   ],
   "source": [
    "to_do_list=[\"Buy food\", \"Clean the house\", \"Pay bills\"]\n",
    "\n",
    "## Adding to task\n",
    "to_do_list.append(\"Schedule meeting\")\n",
    "to_do_list.append(\"Go for a run\")\n",
    "\n",
    "## Removing a completed task\n",
    "to_do_list.remove(\"Clean the house\")\n",
    "\n",
    "## checking if a task is in the list\n",
    "\n",
    "if\"Pay bills\" in to_do_list:\n",
    "    print(\"Don't forgot to pay the utility bills\")\n",
    "\n",
    "print(\"To Do List remaining\")\n",
    "for task in to_do_list:\n",
    "    print(f\"-{task}\")"
   ]
  },
  {
   "cell_type": "markdown",
   "id": "d61b8a53",
   "metadata": {},
   "source": [
    "#### Example 2: Organizing Student Grades\n",
    "- Create a list to store and calculate avg. grades for students."
   ]
  },
  {
   "cell_type": "code",
   "execution_count": 5,
   "id": "8312be12",
   "metadata": {},
   "outputs": [
    {
     "name": "stdout",
     "output_type": "stream",
     "text": [
      "Average Grade:  87.60\n",
      "Highest Grade: 95\n",
      "Lowest Grade: 78\n"
     ]
    }
   ],
   "source": [
    "## Organizing student grades\n",
    "grades=[85,92,78,88]\n",
    "\n",
    "## Adding a new grade\n",
    "grades.append(95)\n",
    "\n",
    "## Calculating the average grade\n",
    "\n",
    "average_grade=sum(grades)/len(grades)\n",
    "print(f\"Average Grade: {average_grade: .2f}\")\n",
    "\n",
    "\n",
    "## Finding the highest and lowest grades\n",
    "highest_grade = max(grades)\n",
    "lowest_grade = min(grades)\n",
    "print(f\"Highest Grade: {highest_grade}\")\n",
    "print(f\"Lowest Grade: {lowest_grade}\")\n"
   ]
  },
  {
   "cell_type": "markdown",
   "id": "23119030",
   "metadata": {},
   "source": [
    "#### Example 3: Managing an inventory"
   ]
  },
  {
   "cell_type": "code",
   "execution_count": 7,
   "id": "6c8370d6",
   "metadata": {},
   "outputs": [
    {
     "name": "stdout",
     "output_type": "stream",
     "text": [
      "orange are out of stock.\n",
      "Inventory List:\n",
      "- apples\n",
      "- oranges\n",
      "- grapes\n",
      "- strawberries\n"
     ]
    }
   ],
   "source": [
    "inventory = [\"apples\", \"bananas\", \"oranges\", \"grapes\"]\n",
    "\n",
    "inventory.append(\"strawberries\")\n",
    "\n",
    "inventory.remove(\"bananas\")\n",
    "\n",
    "## checking if an item is in stock\n",
    "item=\"orange\"\n",
    "if item in inventory:\n",
    "    print(f\"{item} are in stock.\")\n",
    "else:\n",
    "    print(f\"{item} are out of stock.\")\n",
    "\n",
    "## Printing the inventory\n",
    "print(\"Inventory List:\")\n",
    "for item in inventory:\n",
    "    print(f\"- {item}\")\n",
    "    "
   ]
  },
  {
   "cell_type": "markdown",
   "id": "6360d22f",
   "metadata": {},
   "source": [
    "#### Example 4: Feedback system "
   ]
  },
  {
   "cell_type": "code",
   "execution_count": null,
   "id": "212f013a",
   "metadata": {},
   "outputs": [],
   "source": []
  }
 ],
 "metadata": {
  "kernelspec": {
   "display_name": "myenv (3.13.2)",
   "language": "python",
   "name": "python3"
  },
  "language_info": {
   "codemirror_mode": {
    "name": "ipython",
    "version": 3
   },
   "file_extension": ".py",
   "mimetype": "text/x-python",
   "name": "python",
   "nbconvert_exporter": "python",
   "pygments_lexer": "ipython3",
   "version": "3.13.2"
  }
 },
 "nbformat": 4,
 "nbformat_minor": 5
}
