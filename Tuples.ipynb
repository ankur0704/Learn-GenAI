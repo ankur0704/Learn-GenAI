{
 "cells": [
  {
   "cell_type": "markdown",
   "id": "06bfebf1",
   "metadata": {},
   "source": [
    "### INTRODUCTION TO TUPLES:\n",
    "\n",
    "Tuples are ordered collections of items that are immutable. They are similar to lists, but their immutability makes them different."
   ]
  },
  {
   "cell_type": "code",
   "execution_count": 1,
   "id": "50937ea4",
   "metadata": {},
   "outputs": [
    {
     "name": "stdout",
     "output_type": "stream",
     "text": [
      "()\n",
      "<class 'tuple'>\n"
     ]
    }
   ],
   "source": [
    "## creating a tuple\n",
    "\n",
    "empty_tuple=()\n",
    "print(empty_tuple)\n",
    "print(type(empty_tuple))"
   ]
  },
  {
   "cell_type": "code",
   "execution_count": 2,
   "id": "0e42cecb",
   "metadata": {},
   "outputs": [
    {
     "name": "stdout",
     "output_type": "stream",
     "text": [
      "<class 'list'>\n",
      "<class 'tuple'>\n"
     ]
    }
   ],
   "source": [
    "lst=list()\n",
    "print(type(lst))\n",
    "tpl=tuple()\n",
    "print(type(tpl))"
   ]
  },
  {
   "cell_type": "code",
   "execution_count": 4,
   "id": "a6bf2f13",
   "metadata": {},
   "outputs": [
    {
     "data": {
      "text/plain": [
       "(1, 2, 3, 4, 5, 6)"
      ]
     },
     "execution_count": 4,
     "metadata": {},
     "output_type": "execute_result"
    }
   ],
   "source": [
    "numbers= tuple([1,2,3,4,5,6])\n",
    "numbers"
   ]
  },
  {
   "cell_type": "code",
   "execution_count": null,
   "metadata": {},
   "outputs": [
    {
     "data": {
      "text/plain": [
       "[1, 2, 3, 4, 5, 6]"
      ]
     },
     "execution_count": 5,
     "metadata": {},
     "output_type": "execute_result"
    }
   ],
   "source": [
    "list((1,2,3,4,5,6))    ###list can be converted into tuple and vise-versa "
   ]
  },
  {
   "cell_type": "code",
   "execution_count": 6,
   "id": "935551a0",
   "metadata": {},
   "outputs": [
    {
     "name": "stdout",
     "output_type": "stream",
     "text": [
      "(1, 'hello', 2.12, True)\n"
     ]
    }
   ],
   "source": [
    "mixed_tuple=(1,\"hello\", 2.12, True)\n",
    "print(mixed_tuple)"
   ]
  },
  {
   "cell_type": "code",
   "execution_count": null,
   "metadata": {},
   "outputs": [
    {
     "data": {
      "text/plain": [
       "(1, 2, 3, 4, 5, 6)"
      ]
     },
     "execution_count": 7,
     "metadata": {},
     "output_type": "execute_result"
    }
   ],
   "source": [
    "### Accessing tuple elements\n",
    "\n",
    "numbers "
   ]
  },
  {
   "cell_type": "code",
   "execution_count": 8,
   "id": "c21fc2b2",
   "metadata": {},
   "outputs": [
    {
     "name": "stdout",
     "output_type": "stream",
     "text": [
      "3\n",
      "6\n"
     ]
    }
   ],
   "source": [
    "print(numbers[2])\n",
    "print(numbers[-1])\n"
   ]
  },
  {
   "cell_type": "code",
   "execution_count": null,
   "id": "08abc893",
   "metadata": {},
   "outputs": [
    {
     "data": {
      "text/plain": [
       "(1, 2, 3, 4)"
      ]
     },
     "execution_count": 9,
     "metadata": {},
     "output_type": "execute_result"
    }
   ],
   "source": [
    "numbers[0:4]   ##slicing"
   ]
  },
  {
   "cell_type": "code",
   "execution_count": 10,
   "id": "0055ec6d",
   "metadata": {},
   "outputs": [
    {
     "name": "stdout",
     "output_type": "stream",
     "text": [
      "(1, 2, 3, 4, 5, 6, 1, 'hello', 2.12, True)\n"
     ]
    }
   ],
   "source": [
    "## TUple Operations\n",
    "\n",
    "concatenation_tuple=numbers + mixed_tuple\n",
    "print(concatenation_tuple)"
   ]
  },
  {
   "cell_type": "code",
   "execution_count": 12,
   "id": "ab704896",
   "metadata": {},
   "outputs": [
    {
     "data": {
      "text/plain": [
       "(1, 2, 3, 4, 5, 6, 1, 2, 3, 4, 5, 6, 1, 2, 3, 4, 5, 6)"
      ]
     },
     "execution_count": 12,
     "metadata": {},
     "output_type": "execute_result"
    }
   ],
   "source": [
    "numbers * 3"
   ]
  },
  {
   "cell_type": "code",
   "execution_count": 16,
   "id": "5ec4c88d",
   "metadata": {},
   "outputs": [
    {
     "name": "stdout",
     "output_type": "stream",
     "text": [
      "[1, 2, 3, 4, 5]\n",
      "[1, 'ANKUR', 3, 4, 5]\n"
     ]
    }
   ],
   "source": [
    "## Immutable Nature Of Tuples\n",
    "##Tuples are immutable meaning their elements cannot be changed once assigned\n",
    "\n",
    "lst=[1,2,3,4,5]\n",
    "print(lst)\n",
    "\n",
    "lst[1]=\"ANKUR\"\n",
    "print(lst)     ##therefore list are mutable"
   ]
  },
  {
   "cell_type": "code",
   "execution_count": 17,
   "id": "8dc0397a",
   "metadata": {},
   "outputs": [
    {
     "ename": "TypeError",
     "evalue": "'tuple' object does not support item assignment",
     "output_type": "error",
     "traceback": [
      "\u001b[31m---------------------------------------------------------------------------\u001b[39m",
      "\u001b[31mTypeError\u001b[39m                                 Traceback (most recent call last)",
      "\u001b[36mCell\u001b[39m\u001b[36m \u001b[39m\u001b[32mIn[17]\u001b[39m\u001b[32m, line 1\u001b[39m\n\u001b[32m----> \u001b[39m\u001b[32m1\u001b[39m \u001b[43mnumbers\u001b[49m\u001b[43m[\u001b[49m\u001b[32;43m1\u001b[39;49m\u001b[43m]\u001b[49m = \u001b[33m\"\u001b[39m\u001b[33mANKUR\u001b[39m\u001b[33m\"\u001b[39m   \u001b[38;5;66;03m##immutable\u001b[39;00m\n",
      "\u001b[31mTypeError\u001b[39m: 'tuple' object does not support item assignment"
     ]
    }
   ],
   "source": [
    "numbers[1] = \"ANKUR\"   ##immutable"
   ]
  },
  {
   "cell_type": "code",
   "execution_count": 21,
   "id": "45f4da37",
   "metadata": {},
   "outputs": [
    {
     "name": "stdout",
     "output_type": "stream",
     "text": [
      "1\n",
      "2\n"
     ]
    }
   ],
   "source": [
    "## Tuple Methods\n",
    "print(numbers.count(1))   ##how many no. of times element(1) is present \n",
    "print(numbers.index(3))   ##at what index 3 is present in the tuplef"
   ]
  },
  {
   "cell_type": "code",
   "execution_count": null,
   "id": "961a55f8",
   "metadata": {},
   "outputs": [
    {
     "name": "stdout",
     "output_type": "stream",
     "text": [
      "(1, 'raju', 2.41)\n"
     ]
    }
   ],
   "source": [
    "## Packing and Unpacking tuple\n",
    "\n",
    "## packing\n",
    "packed_tuple=1,\"raju\", 2.41\n",
    "print(packed_tuple)"
   ]
  },
  {
   "cell_type": "code",
   "execution_count": 23,
   "id": "3286354a",
   "metadata": {},
   "outputs": [
    {
     "name": "stdout",
     "output_type": "stream",
     "text": [
      "1\n",
      "raju\n",
      "2.41\n"
     ]
    }
   ],
   "source": [
    "## unpacking a tuple\n",
    "a,b,c=packed_tuple\n",
    "\n",
    "print(a)\n",
    "print(b)\n",
    "print(c)"
   ]
  },
  {
   "cell_type": "code",
   "execution_count": 24,
   "id": "212a08b4",
   "metadata": {},
   "outputs": [
    {
     "name": "stdout",
     "output_type": "stream",
     "text": [
      "1\n",
      "[2, 3, 4, 5]\n",
      "6\n"
     ]
    }
   ],
   "source": [
    "## Unpacking with *\n",
    "numbers=(1,2,3,4,5,6)\n",
    "first, *middle, last=numbers\n",
    "print(first)\n",
    "print(middle)\n",
    "print(last)"
   ]
  },
  {
   "cell_type": "code",
   "execution_count": null,
   "id": "859b0482",
   "metadata": {},
   "outputs": [
    {
     "data": {
      "text/plain": [
       "3"
      ]
     },
     "execution_count": 26,
     "metadata": {},
     "output_type": "execute_result"
    }
   ],
   "source": [
    "\n",
    "## Nested List  (a LIST inside a LIST)\n",
    "lst=[[1,2,3],[4,5,3,2],[1,\"hello\", 3,124],[657,2343,34]]\n",
    "lst[0][2]\n",
    "\n"
   ]
  },
  {
   "cell_type": "code",
   "execution_count": null,
   "id": "aed7ace8",
   "metadata": {},
   "outputs": [
    {
     "data": {
      "text/plain": [
       "34"
      ]
     },
     "execution_count": 28,
     "metadata": {},
     "output_type": "execute_result"
    }
   ],
   "source": [
    "\n",
    "lst=[[1,2,3],[4,5,3,2],[1,\"hello\", 3,124],(657,2343,34)]\n",
    "lst[3]"
   ]
  },
  {
   "cell_type": "code",
   "execution_count": 32,
   "id": "7e384bba",
   "metadata": {},
   "outputs": [
    {
     "name": "stdout",
     "output_type": "stream",
     "text": [
      "(1, 2, 3)\n"
     ]
    }
   ],
   "source": [
    "## Nested Tuple\n",
    "\n",
    "nested_tuples=[(1,2,3),(4,5,3,2),(1,\"hello\", 3,124),(True, False)]\n",
    "\n",
    "\n",
    "##accessing elements inside the tuple\n",
    "print(nested_tuples[0])"
   ]
  },
  {
   "cell_type": "code",
   "execution_count": 35,
   "id": "d85e0dec",
   "metadata": {},
   "outputs": [
    {
     "name": "stdout",
     "output_type": "stream",
     "text": [
      "1 2 3 \n",
      "4 5 3 2 \n",
      "1 hello 3 124 \n",
      "True False \n"
     ]
    }
   ],
   "source": [
    "## iterating over nested tuples\n",
    "for sub_tuple in nested_tuples:\n",
    "    for item in sub_tuple:\n",
    "        print(item, end=\" \")\n",
    "    print()"
   ]
  },
  {
   "cell_type": "markdown",
   "id": "6680d130",
   "metadata": {},
   "source": [
    "#### CONCLUSION:\n",
    "Tuples are versatile and useful in many real-world scenarios where an immutable and ordered collection of items is required.\n",
    "\n",
    "They are commonly used in data structures, functions, arguments and return values, and as dictionary keys. "
   ]
  }
 ],
 "metadata": {
  "kernelspec": {
   "display_name": "myenv (3.13.2)",
   "language": "python",
   "name": "python3"
  },
  "language_info": {
   "codemirror_mode": {
    "name": "ipython",
    "version": 3
   },
   "file_extension": ".py",
   "mimetype": "text/x-python",
   "name": "python",
   "nbconvert_exporter": "python",
   "pygments_lexer": "ipython3",
   "version": "3.13.2"
  }
 },
 "nbformat": 4,
 "nbformat_minor": 5
}
