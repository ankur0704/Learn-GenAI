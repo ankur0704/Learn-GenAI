{
 "cells": [
  {
   "cell_type": "code",
   "execution_count": 4,
   "id": "f14f2157",
   "metadata": {},
   "outputs": [],
   "source": [
    "a=100 ## variable a assigned value 100 to it "
   ]
  },
  {
   "cell_type": "code",
   "execution_count": 5,
   "id": "cf8d2fc8",
   "metadata": {},
   "outputs": [
    {
     "name": "stdout",
     "output_type": "stream",
     "text": [
      "age : 32\n",
      "Height : 6.1\n",
      "Name : Ankur\n"
     ]
    }
   ],
   "source": [
    "## declaring and assiging variables\n",
    "\n",
    "age=32\n",
    "height= 6.1\n",
    "name= \"Ankur\"\n",
    "\n",
    "is_student= True\n",
    "\n",
    "##printing the var\n",
    "\n",
    "print(\"age :\", age)\n",
    "print(\"Height :\", height)\n",
    "print(\"Name :\", name)"
   ]
  },
  {
   "cell_type": "code",
   "execution_count": 6,
   "id": "14d24145",
   "metadata": {},
   "outputs": [],
   "source": [
    "## Naming Conventions\n",
    "## Variable names should be descriptive\n",
    "## They must start with a letter or an underscore(_) and contain letters, numbers and underscores\n",
    "## var names are case sensitive\n",
    "\n",
    "## valid var\n",
    "\n",
    "first_name= \"Ankur\"\n",
    "last_name= \"Sonavane\""
   ]
  },
  {
   "cell_type": "code",
   "execution_count": 7,
   "id": "851343b7",
   "metadata": {},
   "outputs": [],
   "source": [
    "## invalid var name\n",
    "## 2age=20\n",
    "## first-name= \"ankur\"\n",
    "## @name= \"ankur\""
   ]
  },
  {
   "cell_type": "code",
   "execution_count": 8,
   "id": "2df9719a",
   "metadata": {},
   "outputs": [],
   "source": [
    "## case sensitivity\n",
    "name=\"ankur\"\n",
    "Name=\"ankur\""
   ]
  },
  {
   "cell_type": "code",
   "execution_count": 9,
   "id": "86940b63",
   "metadata": {},
   "outputs": [
    {
     "name": "stdout",
     "output_type": "stream",
     "text": [
      "<class 'str'>\n"
     ]
    }
   ],
   "source": [
    "## Understanding variable types\n",
    "## PYTHON is dynamically typed, type of variable is determined at runtime\n",
    "\n",
    "age=25  \n",
    "height=2.2\n",
    "name=\"ANKUR\"\n",
    "\n",
    "if_student= True \n",
    "\n",
    "print(type(name))"
   ]
  },
  {
   "cell_type": "code",
   "execution_count": 10,
   "id": "82711225",
   "metadata": {},
   "outputs": [
    {
     "data": {
      "text/plain": [
       "float"
      ]
     },
     "execution_count": 10,
     "metadata": {},
     "output_type": "execute_result"
    }
   ],
   "source": [
    "## type checking and Conversion\n",
    "\n",
    "type(height)"
   ]
  },
  {
   "cell_type": "code",
   "execution_count": 11,
   "id": "9bf4ae40",
   "metadata": {},
   "outputs": [
    {
     "name": "stdout",
     "output_type": "stream",
     "text": [
      "<class 'int'>\n",
      "25\n",
      "<class 'str'>\n"
     ]
    }
   ],
   "source": [
    "aeg=25\n",
    "print(type(age))\n",
    "\n",
    "## type conversion\n",
    "age_str= str(age)\n",
    "print(age_str)\n",
    "print(type(age_str))"
   ]
  },
  {
   "cell_type": "code",
   "execution_count": 12,
   "id": "ac2b0d4b",
   "metadata": {},
   "outputs": [
    {
     "name": "stdout",
     "output_type": "stream",
     "text": [
      "10 <class 'int'>\n",
      "hello <class 'str'>\n",
      "3.4 <class 'float'>\n"
     ]
    }
   ],
   "source": [
    "## Dynamic Typing - python allows the type of var to change as the program executes\n",
    "\n",
    "var=10  \n",
    "print(var, type(var))\n",
    "\n",
    "var= \"hello\"\n",
    "print(var, type(var))\n",
    "\n",
    "var=3.4\n",
    "print(var, type(var))\n",
    "\n"
   ]
  },
  {
   "cell_type": "code",
   "execution_count": 13,
   "id": "09453232",
   "metadata": {},
   "outputs": [
    {
     "name": "stdout",
     "output_type": "stream",
     "text": [
      "3 <class 'int'>\n"
     ]
    }
   ],
   "source": [
    "## INPUT\n",
    "\n",
    "age=int(input(\"what is your age\"))\n",
    "print(age, type(age))"
   ]
  },
  {
   "cell_type": "code",
   "execution_count": 14,
   "id": "7209e818",
   "metadata": {},
   "outputs": [
    {
     "name": "stdout",
     "output_type": "stream",
     "text": [
      "Sum: 5.0\n",
      "Difference 1.0\n",
      "Product: 6.0\n",
      "Quotient 1.5\n"
     ]
    }
   ],
   "source": [
    "## simple calculator\n",
    "num1 = float(input(\"Enter first number:\"))\n",
    "num2 = float(input(\"Enter second number\"))\n",
    "\n",
    "sum= num1+num2\n",
    "difference= num1 - num2\n",
    "product = num1* num2\n",
    "quotient= num1/ num2\n",
    "\n",
    "print(\"Sum:\", sum)\n",
    "print(\"Difference\", difference)\n",
    "print(\"Product:\", product)\n",
    "print(\"Quotient\", quotient)"
   ]
  },
  {
   "cell_type": "code",
   "execution_count": null,
   "id": "40cd94cd",
   "metadata": {},
   "outputs": [],
   "source": []
  },
  {
   "cell_type": "code",
   "execution_count": null,
   "id": "443cee5f",
   "metadata": {},
   "outputs": [],
   "source": []
  },
  {
   "cell_type": "code",
   "execution_count": null,
   "id": "9d1bd838",
   "metadata": {},
   "outputs": [],
   "source": []
  }
 ],
 "metadata": {
  "kernelspec": {
   "display_name": "myenv (3.13.2)",
   "language": "python",
   "name": "python3"
  },
  "language_info": {
   "codemirror_mode": {
    "name": "ipython",
    "version": 3
   },
   "file_extension": ".py",
   "mimetype": "text/x-python",
   "name": "python",
   "nbconvert_exporter": "python",
   "pygments_lexer": "ipython3",
   "version": "3.13.2"
  }
 },
 "nbformat": 4,
 "nbformat_minor": 5
}
